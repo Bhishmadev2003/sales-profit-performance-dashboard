{
 "cells": [
  {
   "cell_type": "code",
   "execution_count": 1,
   "metadata": {
    "id": "DTyfuZzK_pQO"
   },
   "outputs": [],
   "source": [
    "import pandas as pd\n",
    "import matplotlib.pyplot as plt\n",
    "import seaborn as sns\n",
    "import plotly.express as px"
   ]
  },
  {
   "cell_type": "code",
   "execution_count": 2,
   "metadata": {
    "id": "w6CBGYJSAJrB"
   },
   "outputs": [],
   "source": [
    "df = pd.read_csv('store_sales_data.csv')"
   ]
  },
  {
   "cell_type": "code",
   "execution_count": 3,
   "metadata": {
    "id": "_qPJFZq0ANj4"
   },
   "outputs": [
    {
     "data": {
      "text/plain": [
       "(100000, 25)"
      ]
     },
     "execution_count": 3,
     "metadata": {},
     "output_type": "execute_result"
    }
   ],
   "source": [
    "df.shape"
   ]
  },
  {
   "cell_type": "code",
   "execution_count": 4,
   "metadata": {
    "id": "fcFZFXgWAPIg"
   },
   "outputs": [
    {
     "data": {
      "text/plain": [
       "Index(['Customer ID', 'Customer Name', 'Last Name', 'Date of Birth', 'Sales',\n",
       "       'Year', 'Outlet Type', 'City Type', 'Category of Goods', 'Region',\n",
       "       'Country', 'Segment', 'Sales Date', 'Order ID', 'Order Date',\n",
       "       'Ship Date', 'Ship Mode', 'State', 'Postal Code', 'Product ID',\n",
       "       'Sub-Category', 'Product Name', 'Quantity', 'Discount', 'Profit'],\n",
       "      dtype='object')"
      ]
     },
     "execution_count": 4,
     "metadata": {},
     "output_type": "execute_result"
    }
   ],
   "source": [
    "df.columns"
   ]
  },
  {
   "cell_type": "code",
   "execution_count": 5,
   "metadata": {
    "id": "d86Yr58mATNZ"
   },
   "outputs": [],
   "source": [
    "df.columns = df.columns.str.strip().str.title().str.replace(' ', '_').str.replace('-','_')"
   ]
  },
  {
   "cell_type": "code",
   "execution_count": 6,
   "metadata": {
    "id": "ElChkweuA-tY"
   },
   "outputs": [
    {
     "data": {
      "text/plain": [
       "Index(['Customer_Id', 'Customer_Name', 'Last_Name', 'Date_Of_Birth', 'Sales',\n",
       "       'Year', 'Outlet_Type', 'City_Type', 'Category_Of_Goods', 'Region',\n",
       "       'Country', 'Segment', 'Sales_Date', 'Order_Id', 'Order_Date',\n",
       "       'Ship_Date', 'Ship_Mode', 'State', 'Postal_Code', 'Product_Id',\n",
       "       'Sub_Category', 'Product_Name', 'Quantity', 'Discount', 'Profit'],\n",
       "      dtype='object')"
      ]
     },
     "execution_count": 6,
     "metadata": {},
     "output_type": "execute_result"
    }
   ],
   "source": [
    "df.columns"
   ]
  },
  {
   "cell_type": "code",
   "execution_count": 7,
   "metadata": {
    "id": "o3cQ3XC1BC4I"
   },
   "outputs": [
    {
     "data": {
      "text/html": [
       "<div>\n",
       "<style scoped>\n",
       "    .dataframe tbody tr th:only-of-type {\n",
       "        vertical-align: middle;\n",
       "    }\n",
       "\n",
       "    .dataframe tbody tr th {\n",
       "        vertical-align: top;\n",
       "    }\n",
       "\n",
       "    .dataframe thead th {\n",
       "        text-align: right;\n",
       "    }\n",
       "</style>\n",
       "<table border=\"1\" class=\"dataframe\">\n",
       "  <thead>\n",
       "    <tr style=\"text-align: right;\">\n",
       "      <th></th>\n",
       "      <th>Customer_Id</th>\n",
       "      <th>Customer_Name</th>\n",
       "      <th>Last_Name</th>\n",
       "      <th>Date_Of_Birth</th>\n",
       "      <th>Sales</th>\n",
       "      <th>Year</th>\n",
       "      <th>Outlet_Type</th>\n",
       "      <th>City_Type</th>\n",
       "      <th>Category_Of_Goods</th>\n",
       "      <th>Region</th>\n",
       "      <th>...</th>\n",
       "      <th>Ship_Date</th>\n",
       "      <th>Ship_Mode</th>\n",
       "      <th>State</th>\n",
       "      <th>Postal_Code</th>\n",
       "      <th>Product_Id</th>\n",
       "      <th>Sub_Category</th>\n",
       "      <th>Product_Name</th>\n",
       "      <th>Quantity</th>\n",
       "      <th>Discount</th>\n",
       "      <th>Profit</th>\n",
       "    </tr>\n",
       "  </thead>\n",
       "  <tbody>\n",
       "    <tr>\n",
       "      <th>0</th>\n",
       "      <td>CUST000001</td>\n",
       "      <td>Curtis</td>\n",
       "      <td>Krause</td>\n",
       "      <td>1973-11-29</td>\n",
       "      <td>3344.69</td>\n",
       "      <td>2023</td>\n",
       "      <td>Large</td>\n",
       "      <td>Tier 1</td>\n",
       "      <td>Fast Food</td>\n",
       "      <td>East</td>\n",
       "      <td>...</td>\n",
       "      <td>2020-04-18</td>\n",
       "      <td>Same Day</td>\n",
       "      <td>West Bengal</td>\n",
       "      <td>700001</td>\n",
       "      <td>PROD000001</td>\n",
       "      <td>Burgers</td>\n",
       "      <td>Burgers - 718</td>\n",
       "      <td>3</td>\n",
       "      <td>0.09</td>\n",
       "      <td>448.24</td>\n",
       "    </tr>\n",
       "    <tr>\n",
       "      <th>1</th>\n",
       "      <td>CUST000002</td>\n",
       "      <td>Jeremy</td>\n",
       "      <td>Foster</td>\n",
       "      <td>1987-08-30</td>\n",
       "      <td>37094.41</td>\n",
       "      <td>2022</td>\n",
       "      <td>Medium</td>\n",
       "      <td>Tier 2</td>\n",
       "      <td>Fast Food</td>\n",
       "      <td>East</td>\n",
       "      <td>...</td>\n",
       "      <td>2021-01-11</td>\n",
       "      <td>Standard Class</td>\n",
       "      <td>Punjab</td>\n",
       "      <td>160001</td>\n",
       "      <td>PROD000002</td>\n",
       "      <td>Pizzas</td>\n",
       "      <td>Pizzas - 519</td>\n",
       "      <td>5</td>\n",
       "      <td>0.39</td>\n",
       "      <td>3134.34</td>\n",
       "    </tr>\n",
       "    <tr>\n",
       "      <th>2</th>\n",
       "      <td>CUST000003</td>\n",
       "      <td>Ariel</td>\n",
       "      <td>Mccann</td>\n",
       "      <td>1980-12-15</td>\n",
       "      <td>35501.08</td>\n",
       "      <td>2023</td>\n",
       "      <td>Large</td>\n",
       "      <td>Village</td>\n",
       "      <td>Electric Appliances</td>\n",
       "      <td>South</td>\n",
       "      <td>...</td>\n",
       "      <td>2020-08-16</td>\n",
       "      <td>Second Class</td>\n",
       "      <td>Gujarat</td>\n",
       "      <td>380001</td>\n",
       "      <td>PROD000003</td>\n",
       "      <td>Fans</td>\n",
       "      <td>Fans - 395</td>\n",
       "      <td>6</td>\n",
       "      <td>0.07</td>\n",
       "      <td>8324.21</td>\n",
       "    </tr>\n",
       "    <tr>\n",
       "      <th>3</th>\n",
       "      <td>CUST000004</td>\n",
       "      <td>Colleen</td>\n",
       "      <td>Maynard</td>\n",
       "      <td>1989-05-23</td>\n",
       "      <td>8969.33</td>\n",
       "      <td>2021</td>\n",
       "      <td>Medium</td>\n",
       "      <td>Village</td>\n",
       "      <td>Dairy Products</td>\n",
       "      <td>East</td>\n",
       "      <td>...</td>\n",
       "      <td>2021-10-16</td>\n",
       "      <td>First Class</td>\n",
       "      <td>West Bengal</td>\n",
       "      <td>700001</td>\n",
       "      <td>PROD000004</td>\n",
       "      <td>Milk</td>\n",
       "      <td>Milk - 798</td>\n",
       "      <td>4</td>\n",
       "      <td>0.18</td>\n",
       "      <td>1962.66</td>\n",
       "    </tr>\n",
       "    <tr>\n",
       "      <th>4</th>\n",
       "      <td>CUST000005</td>\n",
       "      <td>Gina</td>\n",
       "      <td>Holden</td>\n",
       "      <td>1957-12-31</td>\n",
       "      <td>35530.44</td>\n",
       "      <td>2021</td>\n",
       "      <td>Small</td>\n",
       "      <td>Village</td>\n",
       "      <td>Sessional Fruits &amp; Vegetables</td>\n",
       "      <td>West</td>\n",
       "      <td>...</td>\n",
       "      <td>2019-01-25</td>\n",
       "      <td>Standard Class</td>\n",
       "      <td>Delhi</td>\n",
       "      <td>110001</td>\n",
       "      <td>PROD000005</td>\n",
       "      <td>Tomatoes</td>\n",
       "      <td>Tomatoes - 442</td>\n",
       "      <td>4</td>\n",
       "      <td>0.27</td>\n",
       "      <td>2843.93</td>\n",
       "    </tr>\n",
       "  </tbody>\n",
       "</table>\n",
       "<p>5 rows × 25 columns</p>\n",
       "</div>"
      ],
      "text/plain": [
       "  Customer_Id Customer_Name Last_Name Date_Of_Birth     Sales  Year  \\\n",
       "0  CUST000001        Curtis    Krause    1973-11-29   3344.69  2023   \n",
       "1  CUST000002        Jeremy    Foster    1987-08-30  37094.41  2022   \n",
       "2  CUST000003         Ariel    Mccann    1980-12-15  35501.08  2023   \n",
       "3  CUST000004       Colleen   Maynard    1989-05-23   8969.33  2021   \n",
       "4  CUST000005          Gina    Holden    1957-12-31  35530.44  2021   \n",
       "\n",
       "  Outlet_Type City_Type              Category_Of_Goods Region  ...  \\\n",
       "0       Large    Tier 1                      Fast Food   East  ...   \n",
       "1      Medium    Tier 2                      Fast Food   East  ...   \n",
       "2       Large   Village            Electric Appliances  South  ...   \n",
       "3      Medium   Village                 Dairy Products   East  ...   \n",
       "4       Small   Village  Sessional Fruits & Vegetables   West  ...   \n",
       "\n",
       "    Ship_Date       Ship_Mode        State Postal_Code  Product_Id  \\\n",
       "0  2020-04-18        Same Day  West Bengal      700001  PROD000001   \n",
       "1  2021-01-11  Standard Class       Punjab      160001  PROD000002   \n",
       "2  2020-08-16    Second Class      Gujarat      380001  PROD000003   \n",
       "3  2021-10-16     First Class  West Bengal      700001  PROD000004   \n",
       "4  2019-01-25  Standard Class        Delhi      110001  PROD000005   \n",
       "\n",
       "  Sub_Category    Product_Name Quantity  Discount   Profit  \n",
       "0      Burgers   Burgers - 718        3      0.09   448.24  \n",
       "1       Pizzas    Pizzas - 519        5      0.39  3134.34  \n",
       "2         Fans      Fans - 395        6      0.07  8324.21  \n",
       "3         Milk      Milk - 798        4      0.18  1962.66  \n",
       "4     Tomatoes  Tomatoes - 442        4      0.27  2843.93  \n",
       "\n",
       "[5 rows x 25 columns]"
      ]
     },
     "execution_count": 7,
     "metadata": {},
     "output_type": "execute_result"
    }
   ],
   "source": [
    "df.head()"
   ]
  },
  {
   "cell_type": "code",
   "execution_count": 8,
   "metadata": {
    "id": "SWVE6t2SCYA3"
   },
   "outputs": [
    {
     "data": {
      "text/html": [
       "<div>\n",
       "<style scoped>\n",
       "    .dataframe tbody tr th:only-of-type {\n",
       "        vertical-align: middle;\n",
       "    }\n",
       "\n",
       "    .dataframe tbody tr th {\n",
       "        vertical-align: top;\n",
       "    }\n",
       "\n",
       "    .dataframe thead th {\n",
       "        text-align: right;\n",
       "    }\n",
       "</style>\n",
       "<table border=\"1\" class=\"dataframe\">\n",
       "  <thead>\n",
       "    <tr style=\"text-align: right;\">\n",
       "      <th></th>\n",
       "      <th>Customer_Id</th>\n",
       "      <th>Customer_Name</th>\n",
       "      <th>Last_Name</th>\n",
       "      <th>Date_Of_Birth</th>\n",
       "      <th>Sales</th>\n",
       "      <th>Year</th>\n",
       "      <th>Outlet_Type</th>\n",
       "      <th>City_Type</th>\n",
       "      <th>Category_Of_Goods</th>\n",
       "      <th>Region</th>\n",
       "      <th>...</th>\n",
       "      <th>Ship_Date</th>\n",
       "      <th>Ship_Mode</th>\n",
       "      <th>State</th>\n",
       "      <th>Postal_Code</th>\n",
       "      <th>Product_Id</th>\n",
       "      <th>Sub_Category</th>\n",
       "      <th>Product_Name</th>\n",
       "      <th>Quantity</th>\n",
       "      <th>Discount</th>\n",
       "      <th>Profit</th>\n",
       "    </tr>\n",
       "  </thead>\n",
       "  <tbody>\n",
       "    <tr>\n",
       "      <th>99995</th>\n",
       "      <td>CUST099996</td>\n",
       "      <td>Thomas</td>\n",
       "      <td>Adams</td>\n",
       "      <td>2018-02-02</td>\n",
       "      <td>254.35</td>\n",
       "      <td>2020</td>\n",
       "      <td>Large</td>\n",
       "      <td>Tier 1</td>\n",
       "      <td>Furniture</td>\n",
       "      <td>East</td>\n",
       "      <td>...</td>\n",
       "      <td>2019-02-05</td>\n",
       "      <td>First Class</td>\n",
       "      <td>Gujarat</td>\n",
       "      <td>380001</td>\n",
       "      <td>PROD099996</td>\n",
       "      <td>Beds</td>\n",
       "      <td>Beds - 169</td>\n",
       "      <td>2</td>\n",
       "      <td>0.12</td>\n",
       "      <td>61.84</td>\n",
       "    </tr>\n",
       "    <tr>\n",
       "      <th>99996</th>\n",
       "      <td>CUST099997</td>\n",
       "      <td>Clifford</td>\n",
       "      <td>Dillon</td>\n",
       "      <td>1955-08-11</td>\n",
       "      <td>846.66</td>\n",
       "      <td>2019</td>\n",
       "      <td>Medium</td>\n",
       "      <td>Tier 2</td>\n",
       "      <td>Sessional Fruits &amp; Vegetables</td>\n",
       "      <td>North</td>\n",
       "      <td>...</td>\n",
       "      <td>2020-04-09</td>\n",
       "      <td>Same Day</td>\n",
       "      <td>Rajasthan</td>\n",
       "      <td>302001</td>\n",
       "      <td>PROD099997</td>\n",
       "      <td>Tomatoes</td>\n",
       "      <td>Tomatoes - 291</td>\n",
       "      <td>1</td>\n",
       "      <td>0.43</td>\n",
       "      <td>118.60</td>\n",
       "    </tr>\n",
       "    <tr>\n",
       "      <th>99997</th>\n",
       "      <td>CUST099998</td>\n",
       "      <td>Kelly</td>\n",
       "      <td>Deleon</td>\n",
       "      <td>1991-02-27</td>\n",
       "      <td>12165.34</td>\n",
       "      <td>2019</td>\n",
       "      <td>Large</td>\n",
       "      <td>Tier 2</td>\n",
       "      <td>Furniture</td>\n",
       "      <td>East</td>\n",
       "      <td>...</td>\n",
       "      <td>2021-07-02</td>\n",
       "      <td>Standard Class</td>\n",
       "      <td>Maharashtra</td>\n",
       "      <td>400001</td>\n",
       "      <td>PROD099998</td>\n",
       "      <td>Chairs</td>\n",
       "      <td>Chairs - 381</td>\n",
       "      <td>4</td>\n",
       "      <td>0.13</td>\n",
       "      <td>2100.20</td>\n",
       "    </tr>\n",
       "    <tr>\n",
       "      <th>99998</th>\n",
       "      <td>CUST099999</td>\n",
       "      <td>Katie</td>\n",
       "      <td>Moses</td>\n",
       "      <td>1990-10-21</td>\n",
       "      <td>41242.99</td>\n",
       "      <td>2019</td>\n",
       "      <td>Small</td>\n",
       "      <td>Tier 1</td>\n",
       "      <td>Fast Food</td>\n",
       "      <td>North</td>\n",
       "      <td>...</td>\n",
       "      <td>2019-08-01</td>\n",
       "      <td>Second Class</td>\n",
       "      <td>Karnataka</td>\n",
       "      <td>560001</td>\n",
       "      <td>PROD099999</td>\n",
       "      <td>Sandwiches</td>\n",
       "      <td>Sandwiches - 961</td>\n",
       "      <td>4</td>\n",
       "      <td>0.41</td>\n",
       "      <td>4674.57</td>\n",
       "    </tr>\n",
       "    <tr>\n",
       "      <th>99999</th>\n",
       "      <td>CUST100000</td>\n",
       "      <td>Jeremy</td>\n",
       "      <td>Combs</td>\n",
       "      <td>2016-12-27</td>\n",
       "      <td>47402.45</td>\n",
       "      <td>2019</td>\n",
       "      <td>Medium</td>\n",
       "      <td>Village</td>\n",
       "      <td>Fast Food</td>\n",
       "      <td>North</td>\n",
       "      <td>...</td>\n",
       "      <td>2020-02-24</td>\n",
       "      <td>Same Day</td>\n",
       "      <td>Maharashtra</td>\n",
       "      <td>400001</td>\n",
       "      <td>PROD100000</td>\n",
       "      <td>Burgers</td>\n",
       "      <td>Burgers - 611</td>\n",
       "      <td>5</td>\n",
       "      <td>0.32</td>\n",
       "      <td>8490.54</td>\n",
       "    </tr>\n",
       "  </tbody>\n",
       "</table>\n",
       "<p>5 rows × 25 columns</p>\n",
       "</div>"
      ],
      "text/plain": [
       "      Customer_Id Customer_Name Last_Name Date_Of_Birth     Sales  Year  \\\n",
       "99995  CUST099996        Thomas     Adams    2018-02-02    254.35  2020   \n",
       "99996  CUST099997      Clifford    Dillon    1955-08-11    846.66  2019   \n",
       "99997  CUST099998         Kelly    Deleon    1991-02-27  12165.34  2019   \n",
       "99998  CUST099999         Katie     Moses    1990-10-21  41242.99  2019   \n",
       "99999  CUST100000        Jeremy     Combs    2016-12-27  47402.45  2019   \n",
       "\n",
       "      Outlet_Type City_Type              Category_Of_Goods Region  ...  \\\n",
       "99995       Large    Tier 1                      Furniture   East  ...   \n",
       "99996      Medium    Tier 2  Sessional Fruits & Vegetables  North  ...   \n",
       "99997       Large    Tier 2                      Furniture   East  ...   \n",
       "99998       Small    Tier 1                      Fast Food  North  ...   \n",
       "99999      Medium   Village                      Fast Food  North  ...   \n",
       "\n",
       "        Ship_Date       Ship_Mode        State Postal_Code  Product_Id  \\\n",
       "99995  2019-02-05     First Class      Gujarat      380001  PROD099996   \n",
       "99996  2020-04-09        Same Day    Rajasthan      302001  PROD099997   \n",
       "99997  2021-07-02  Standard Class  Maharashtra      400001  PROD099998   \n",
       "99998  2019-08-01    Second Class    Karnataka      560001  PROD099999   \n",
       "99999  2020-02-24        Same Day  Maharashtra      400001  PROD100000   \n",
       "\n",
       "      Sub_Category      Product_Name Quantity  Discount   Profit  \n",
       "99995         Beds        Beds - 169        2      0.12    61.84  \n",
       "99996     Tomatoes    Tomatoes - 291        1      0.43   118.60  \n",
       "99997       Chairs      Chairs - 381        4      0.13  2100.20  \n",
       "99998   Sandwiches  Sandwiches - 961        4      0.41  4674.57  \n",
       "99999      Burgers     Burgers - 611        5      0.32  8490.54  \n",
       "\n",
       "[5 rows x 25 columns]"
      ]
     },
     "execution_count": 8,
     "metadata": {},
     "output_type": "execute_result"
    }
   ],
   "source": [
    "df.tail()"
   ]
  },
  {
   "cell_type": "code",
   "execution_count": 9,
   "metadata": {
    "id": "LoU9zMdZCpiH"
   },
   "outputs": [
    {
     "data": {
      "text/html": [
       "<div>\n",
       "<style scoped>\n",
       "    .dataframe tbody tr th:only-of-type {\n",
       "        vertical-align: middle;\n",
       "    }\n",
       "\n",
       "    .dataframe tbody tr th {\n",
       "        vertical-align: top;\n",
       "    }\n",
       "\n",
       "    .dataframe thead th {\n",
       "        text-align: right;\n",
       "    }\n",
       "</style>\n",
       "<table border=\"1\" class=\"dataframe\">\n",
       "  <thead>\n",
       "    <tr style=\"text-align: right;\">\n",
       "      <th></th>\n",
       "      <th>Customer_Id</th>\n",
       "      <th>Customer_Name</th>\n",
       "      <th>Last_Name</th>\n",
       "      <th>Date_Of_Birth</th>\n",
       "      <th>Sales</th>\n",
       "      <th>Year</th>\n",
       "      <th>Outlet_Type</th>\n",
       "      <th>City_Type</th>\n",
       "      <th>Category_Of_Goods</th>\n",
       "      <th>Region</th>\n",
       "      <th>...</th>\n",
       "      <th>Ship_Date</th>\n",
       "      <th>Ship_Mode</th>\n",
       "      <th>State</th>\n",
       "      <th>Postal_Code</th>\n",
       "      <th>Product_Id</th>\n",
       "      <th>Sub_Category</th>\n",
       "      <th>Product_Name</th>\n",
       "      <th>Quantity</th>\n",
       "      <th>Discount</th>\n",
       "      <th>Profit</th>\n",
       "    </tr>\n",
       "  </thead>\n",
       "  <tbody>\n",
       "    <tr>\n",
       "      <th>31400</th>\n",
       "      <td>CUST031401</td>\n",
       "      <td>Joseph</td>\n",
       "      <td>Mora</td>\n",
       "      <td>2009-01-05</td>\n",
       "      <td>12881.07</td>\n",
       "      <td>2019</td>\n",
       "      <td>Large</td>\n",
       "      <td>Tier 1</td>\n",
       "      <td>Electric Appliances</td>\n",
       "      <td>East</td>\n",
       "      <td>...</td>\n",
       "      <td>2022-03-23</td>\n",
       "      <td>Second Class</td>\n",
       "      <td>Delhi</td>\n",
       "      <td>110001</td>\n",
       "      <td>PROD031401</td>\n",
       "      <td>Fans</td>\n",
       "      <td>Fans - 945</td>\n",
       "      <td>4</td>\n",
       "      <td>0.19</td>\n",
       "      <td>2580.87</td>\n",
       "    </tr>\n",
       "  </tbody>\n",
       "</table>\n",
       "<p>1 rows × 25 columns</p>\n",
       "</div>"
      ],
      "text/plain": [
       "      Customer_Id Customer_Name Last_Name Date_Of_Birth     Sales  Year  \\\n",
       "31400  CUST031401        Joseph      Mora    2009-01-05  12881.07  2019   \n",
       "\n",
       "      Outlet_Type City_Type    Category_Of_Goods Region  ...   Ship_Date  \\\n",
       "31400       Large    Tier 1  Electric Appliances   East  ...  2022-03-23   \n",
       "\n",
       "          Ship_Mode  State Postal_Code  Product_Id Sub_Category Product_Name  \\\n",
       "31400  Second Class  Delhi      110001  PROD031401         Fans   Fans - 945   \n",
       "\n",
       "      Quantity  Discount   Profit  \n",
       "31400        4      0.19  2580.87  \n",
       "\n",
       "[1 rows x 25 columns]"
      ]
     },
     "execution_count": 9,
     "metadata": {},
     "output_type": "execute_result"
    }
   ],
   "source": [
    "df.sample()"
   ]
  },
  {
   "cell_type": "code",
   "execution_count": 10,
   "metadata": {
    "id": "tVNgExjICxd3"
   },
   "outputs": [
    {
     "name": "stdout",
     "output_type": "stream",
     "text": [
      "<class 'pandas.core.frame.DataFrame'>\n",
      "RangeIndex: 100000 entries, 0 to 99999\n",
      "Data columns (total 25 columns):\n",
      " #   Column             Non-Null Count   Dtype  \n",
      "---  ------             --------------   -----  \n",
      " 0   Customer_Id        100000 non-null  object \n",
      " 1   Customer_Name      100000 non-null  object \n",
      " 2   Last_Name          100000 non-null  object \n",
      " 3   Date_Of_Birth      100000 non-null  object \n",
      " 4   Sales              100000 non-null  float64\n",
      " 5   Year               100000 non-null  int64  \n",
      " 6   Outlet_Type        100000 non-null  object \n",
      " 7   City_Type          100000 non-null  object \n",
      " 8   Category_Of_Goods  100000 non-null  object \n",
      " 9   Region             100000 non-null  object \n",
      " 10  Country            100000 non-null  object \n",
      " 11  Segment            100000 non-null  object \n",
      " 12  Sales_Date         100000 non-null  object \n",
      " 13  Order_Id           100000 non-null  object \n",
      " 14  Order_Date         100000 non-null  object \n",
      " 15  Ship_Date          100000 non-null  object \n",
      " 16  Ship_Mode          100000 non-null  object \n",
      " 17  State              100000 non-null  object \n",
      " 18  Postal_Code        100000 non-null  int64  \n",
      " 19  Product_Id         100000 non-null  object \n",
      " 20  Sub_Category       100000 non-null  object \n",
      " 21  Product_Name       100000 non-null  object \n",
      " 22  Quantity           100000 non-null  int64  \n",
      " 23  Discount           100000 non-null  float64\n",
      " 24  Profit             100000 non-null  float64\n",
      "dtypes: float64(3), int64(3), object(19)\n",
      "memory usage: 19.1+ MB\n"
     ]
    }
   ],
   "source": [
    "df.info()"
   ]
  },
  {
   "cell_type": "code",
   "execution_count": 11,
   "metadata": {
    "id": "cBQPWKWrDADn"
   },
   "outputs": [
    {
     "data": {
      "text/html": [
       "<div>\n",
       "<style scoped>\n",
       "    .dataframe tbody tr th:only-of-type {\n",
       "        vertical-align: middle;\n",
       "    }\n",
       "\n",
       "    .dataframe tbody tr th {\n",
       "        vertical-align: top;\n",
       "    }\n",
       "\n",
       "    .dataframe thead th {\n",
       "        text-align: right;\n",
       "    }\n",
       "</style>\n",
       "<table border=\"1\" class=\"dataframe\">\n",
       "  <thead>\n",
       "    <tr style=\"text-align: right;\">\n",
       "      <th></th>\n",
       "      <th>Sales</th>\n",
       "      <th>Discount</th>\n",
       "      <th>Quantity</th>\n",
       "      <th>Profit</th>\n",
       "    </tr>\n",
       "  </thead>\n",
       "  <tbody>\n",
       "    <tr>\n",
       "      <th>count</th>\n",
       "      <td>100000.000000</td>\n",
       "      <td>100000.000000</td>\n",
       "      <td>100000.000000</td>\n",
       "      <td>100000.000000</td>\n",
       "    </tr>\n",
       "    <tr>\n",
       "      <th>mean</th>\n",
       "      <td>25084.410142</td>\n",
       "      <td>0.251320</td>\n",
       "      <td>5.493760</td>\n",
       "      <td>3755.305114</td>\n",
       "    </tr>\n",
       "    <tr>\n",
       "      <th>std</th>\n",
       "      <td>14403.187686</td>\n",
       "      <td>0.144324</td>\n",
       "      <td>2.876102</td>\n",
       "      <td>2639.852035</td>\n",
       "    </tr>\n",
       "    <tr>\n",
       "      <th>min</th>\n",
       "      <td>100.570000</td>\n",
       "      <td>0.000000</td>\n",
       "      <td>1.000000</td>\n",
       "      <td>6.520000</td>\n",
       "    </tr>\n",
       "    <tr>\n",
       "      <th>25%</th>\n",
       "      <td>12618.030000</td>\n",
       "      <td>0.130000</td>\n",
       "      <td>3.000000</td>\n",
       "      <td>1651.105000</td>\n",
       "    </tr>\n",
       "    <tr>\n",
       "      <th>50%</th>\n",
       "      <td>25134.695000</td>\n",
       "      <td>0.250000</td>\n",
       "      <td>5.000000</td>\n",
       "      <td>3317.450000</td>\n",
       "    </tr>\n",
       "    <tr>\n",
       "      <th>75%</th>\n",
       "      <td>37575.850000</td>\n",
       "      <td>0.380000</td>\n",
       "      <td>8.000000</td>\n",
       "      <td>5363.845000</td>\n",
       "    </tr>\n",
       "    <tr>\n",
       "      <th>max</th>\n",
       "      <td>49999.890000</td>\n",
       "      <td>0.500000</td>\n",
       "      <td>10.000000</td>\n",
       "      <td>14563.670000</td>\n",
       "    </tr>\n",
       "  </tbody>\n",
       "</table>\n",
       "</div>"
      ],
      "text/plain": [
       "               Sales       Discount       Quantity         Profit\n",
       "count  100000.000000  100000.000000  100000.000000  100000.000000\n",
       "mean    25084.410142       0.251320       5.493760    3755.305114\n",
       "std     14403.187686       0.144324       2.876102    2639.852035\n",
       "min       100.570000       0.000000       1.000000       6.520000\n",
       "25%     12618.030000       0.130000       3.000000    1651.105000\n",
       "50%     25134.695000       0.250000       5.000000    3317.450000\n",
       "75%     37575.850000       0.380000       8.000000    5363.845000\n",
       "max     49999.890000       0.500000      10.000000   14563.670000"
      ]
     },
     "execution_count": 11,
     "metadata": {},
     "output_type": "execute_result"
    }
   ],
   "source": [
    "df[['Sales', 'Discount', 'Quantity', 'Profit']].describe()"
   ]
  },
  {
   "cell_type": "code",
   "execution_count": 12,
   "metadata": {
    "id": "NagstvLiE1GG"
   },
   "outputs": [
    {
     "data": {
      "text/plain": [
       "Customer_Id          0\n",
       "Customer_Name        0\n",
       "Last_Name            0\n",
       "Date_Of_Birth        0\n",
       "Sales                0\n",
       "Year                 0\n",
       "Outlet_Type          0\n",
       "City_Type            0\n",
       "Category_Of_Goods    0\n",
       "Region               0\n",
       "Country              0\n",
       "Segment              0\n",
       "Sales_Date           0\n",
       "Order_Id             0\n",
       "Order_Date           0\n",
       "Ship_Date            0\n",
       "Ship_Mode            0\n",
       "State                0\n",
       "Postal_Code          0\n",
       "Product_Id           0\n",
       "Sub_Category         0\n",
       "Product_Name         0\n",
       "Quantity             0\n",
       "Discount             0\n",
       "Profit               0\n",
       "dtype: int64"
      ]
     },
     "execution_count": 12,
     "metadata": {},
     "output_type": "execute_result"
    }
   ],
   "source": [
    "df.isnull().sum()"
   ]
  },
  {
   "cell_type": "code",
   "execution_count": 13,
   "metadata": {
    "id": "9sXel0atFwMd"
   },
   "outputs": [
    {
     "data": {
      "text/plain": [
       "np.int64(0)"
      ]
     },
     "execution_count": 13,
     "metadata": {},
     "output_type": "execute_result"
    }
   ],
   "source": [
    "df.duplicated().sum()"
   ]
  },
  {
   "cell_type": "code",
   "execution_count": 14,
   "metadata": {
    "id": "vkDywElQGFIk"
   },
   "outputs": [
    {
     "data": {
      "text/plain": [
       "Index(['Customer_Id', 'Customer_Name', 'Last_Name', 'Date_Of_Birth', 'Sales',\n",
       "       'Year', 'Outlet_Type', 'City_Type', 'Category_Of_Goods', 'Region',\n",
       "       'Country', 'Segment', 'Sales_Date', 'Order_Id', 'Order_Date',\n",
       "       'Ship_Date', 'Ship_Mode', 'State', 'Postal_Code', 'Product_Id',\n",
       "       'Sub_Category', 'Product_Name', 'Quantity', 'Discount', 'Profit'],\n",
       "      dtype='object')"
      ]
     },
     "execution_count": 14,
     "metadata": {},
     "output_type": "execute_result"
    }
   ],
   "source": [
    "df.columns"
   ]
  },
  {
   "cell_type": "code",
   "execution_count": 15,
   "metadata": {
    "id": "bNwsuSdNFzp1"
   },
   "outputs": [
    {
     "name": "stderr",
     "output_type": "stream",
     "text": [
      "C:\\Users\\bhish\\AppData\\Local\\Temp\\ipykernel_1812\\3593900357.py:2: FutureWarning: \n",
      "\n",
      "Passing `palette` without assigning `hue` is deprecated and will be removed in v0.14.0. Assign the `y` variable to `hue` and set `legend=False` for the same effect.\n",
      "\n",
      "  sns.barplot(data = top10, x='Sales', y='Sub_Category', palette='rainbow')\n"
     ]
    },
    {
     "data": {
      "text/plain": [
       "Text(0.5, 1.0, 'Top 10 Sub Category by Sales')"
      ]
     },
     "execution_count": 15,
     "metadata": {},
     "output_type": "execute_result"
    },
    {
     "data": {
      "image/png": "[encoded data removed]",
      "text/plain": [
       "<Figure size 640x480 with 1 Axes>"
      ]
     },
     "metadata": {},
     "output_type": "display_data"
    }
   ],
   "source": [
    "top10 = df.groupby('Sub_Category')['Sales'].sum().sort_values(ascending=False).head(10).reset_index()\n",
    "sns.barplot(data = top10, x='Sales', y='Sub_Category', palette='rainbow')\n",
    "plt.title('Top 10 Sub Category by Sales')"
   ]
  },
  {
   "cell_type": "code",
   "execution_count": 16,
   "metadata": {
    "id": "zLkd_8ujIXS0"
   },
   "outputs": [
    {
     "name": "stderr",
     "output_type": "stream",
     "text": [
      "C:\\Users\\bhish\\AppData\\Local\\Temp\\ipykernel_1812\\1216786809.py:2: FutureWarning: \n",
      "\n",
      "Passing `palette` without assigning `hue` is deprecated and will be removed in v0.14.0. Assign the `y` variable to `hue` and set `legend=False` for the same effect.\n",
      "\n",
      "  sns.barplot(data = top10, x='Profit', y='Sub_Category', palette='rainbow')\n"
     ]
    },
    {
     "data": {
      "text/plain": [
       "Text(0.5, 1.0, 'Top 10 Sub Category by Profit')"
      ]
     },
     "execution_count": 16,
     "metadata": {},
     "output_type": "execute_result"
    },
    {
     "data": {
      "image/png": "[encoded data removed]",
      "text/plain": [
       "<Figure size 640x480 with 1 Axes>"
      ]
     },
     "metadata": {},
     "output_type": "display_data"
    }
   ],
   "source": [
    "top10 = df.groupby('Sub_Category')['Profit'].sum().sort_values(ascending=False).head(10).reset_index()\n",
    "sns.barplot(data = top10, x='Profit', y='Sub_Category', palette='rainbow')\n",
    "plt.title('Top 10 Sub Category by Profit')"
   ]
  },
  {
   "cell_type": "code",
   "execution_count": 17,
   "metadata": {
    "id": "yKLRdXGXKwWa"
   },
   "outputs": [
    {
     "data": {
      "text/plain": [
       "Text(0.5, 1.0, 'Relation between Discount & Profit')"
      ]
     },
     "execution_count": 17,
     "metadata": {},
     "output_type": "execute_result"
    },
    {
     "data": {
      "image/png": "[encoded data removed]",
      "text/plain": [
       "<Figure size 640x480 with 1 Axes>"
      ]
     },
     "metadata": {},
     "output_type": "display_data"
    }
   ],
   "source": [
    "relation = df.groupby('Discount')['Profit'].sum().reset_index()\n",
    "sns.regplot(data = relation, x='Discount', y='Profit')\n",
    "plt.title('Relation between Discount & Profit')"
   ]
  },
  {
   "cell_type": "code",
   "execution_count": 18,
   "metadata": {
    "id": "VAWlG-I3uBBL"
   },
   "outputs": [
    {
     "data": {
      "application/vnd.plotly.v1+json": {
       "config": {
        "plotlyServerURL": "https://plot.ly"
       },
       "data": [
        {
         "hovertemplate": "Profit=%{x}<br>Category_Of_Goods=%{y}<extra></extra>",
         "legendgroup": "",
         "marker": {
          "color": "#636efa",
          "pattern": {
           "shape": ""
          }
         },
         "name": "",
         "orientation": "h",
         "showlegend": false,
         "textposition": "auto",
         "type": "bar",
         "x": {
          "bdata": "j8L17rf6jUHNzMzoh/CNQSlcjx747Y1B16NwhyzmjUGuR+F8rdiNQc3MzIAOeY1B",
          "dtype": "f8"
         },
         "xaxis": "x",
         "y": [
          "Household Items",
          "Fast Food",
          "Sessional Fruits & Vegetables",
          "Electric Appliances",
          "Dairy Products",
          "Furniture"
         ],
         "yaxis": "y"
        }
       ],
       "layout": {
        "barmode": "relative",
        "legend": {
         "tracegroupgap": 0
        },
        "margin": {
         "t": 60
        },
        "template": {
         "data": {
          "bar": [
           {
            "error_x": {
             "color": "#2a3f5f"
            },
            "error_y": {
             "color": "#2a3f5f"
            },
            "marker": {
             "line": {
              "color": "#E5ECF6",
              "width": 0.5
             },
             "pattern": {
              "fillmode": "overlay",
              "size": 10,
              "solidity": 0.2
             }
            },
            "type": "bar"
           }
          ],
          "barpolar": [
           {
            "marker": {
             "line": {
              "color": "#E5ECF6",
              "width": 0.5
             },
             "pattern": {
              "fillmode": "overlay",
              "size": 10,
              "solidity": 0.2
             }
            },
            "type": "barpolar"
           }
          ],
          "carpet": [
           {
            "aaxis": {
             "endlinecolor": "#2a3f5f",
             "gridcolor": "white",
             "linecolor": "white",
             "minorgridcolor": "white",
             "startlinecolor": "#2a3f5f"
            },
            "baxis": {
             "endlinecolor": "#2a3f5f",
             "gridcolor": "white",
             "linecolor": "white",
             "minorgridcolor": "white",
             "startlinecolor": "#2a3f5f"
            },
            "type": "carpet"
           }
          ],
          "choropleth": [
           {
            "colorbar": {
             "outlinewidth": 0,
             "ticks": ""
            },
            "type": "choropleth"
           }
          ],
          "contour": [
           {
            "colorbar": {
             "outlinewidth": 0,
             "ticks": ""
            },
            "colorscale": [
             [
              0,
              "#0d0887"
             ],
             [
              0.1111111111111111,
              "#46039f"
             ],
             [
              0.2222222222222222,
              "#7201a8"
             ],
             [
              0.3333333333333333,
              "#9c179e"
             ],
             [
              0.4444444444444444,
              "#bd3786"
             ],
             [
              0.5555555555555556,
              "#d8576b"
             ],
             [
              0.6666666666666666,
              "#ed7953"
             ],
             [
              0.7777777777777778,
              "#fb9f3a"
             ],
             [
              0.8888888888888888,
              "#fdca26"
             ],
             [
              1,
              "#f0f921"
             ]
            ],
            "type": "contour"
           }
          ],
          "contourcarpet": [
           {
            "colorbar": {
             "outlinewidth": 0,
             "ticks": ""
            },
            "type": "contourcarpet"
           }
          ],
          "heatmap": [
           {
            "colorbar": {
             "outlinewidth": 0,
             "ticks": ""
            },
            "colorscale": [
             [
              0,
              "#0d0887"
             ],
             [
              0.1111111111111111,
              "#46039f"
             ],
             [
              0.2222222222222222,
              "#7201a8"
             ],
             [
              0.3333333333333333,
              "#9c179e"
             ],
             [
              0.4444444444444444,
              "#bd3786"
             ],
             [
              0.5555555555555556,
              "#d8576b"
             ],
             [
              0.6666666666666666,
              "#ed7953"
             ],
             [
              0.7777777777777778,
              "#fb9f3a"
             ],
             [
              0.8888888888888888,
              "#fdca26"
             ],
             [
              1,
              "#f0f921"
             ]
            ],
            "type": "heatmap"
           }
          ],
          "histogram": [
           {
            "marker": {
             "pattern": {
              "fillmode": "overlay",
              "size": 10,
              "solidity": 0.2
             }
            },
            "type": "histogram"
           }
          ],
          "histogram2d": [
           {
            "colorbar": {
             "outlinewidth": 0,
             "ticks": ""
            },
            "colorscale": [
             [
              0,
              "#0d0887"
             ],
             [
              0.1111111111111111,
              "#46039f"
             ],
             [
              0.2222222222222222,
              "#7201a8"
             ],
             [
              0.3333333333333333,
              "#9c179e"
             ],
             [
              0.4444444444444444,
              "#bd3786"
             ],
             [
              0.5555555555555556,
              "#d8576b"
             ],
             [
              0.6666666666666666,
              "#ed7953"
             ],
             [
              0.7777777777777778,
              "#fb9f3a"
             ],
             [
              0.8888888888888888,
              "#fdca26"
             ],
             [
              1,
              "#f0f921"
             ]
            ],
            "type": "histogram2d"
           }
          ],
          "histogram2dcontour": [
           {
            "colorbar": {
             "outlinewidth": 0,
             "ticks": ""
            },
            "colorscale": [
             [
              0,
              "#0d0887"
             ],
             [
              0.1111111111111111,
              "#46039f"
             ],
             [
              0.2222222222222222,
              "#7201a8"
             ],
             [
              0.3333333333333333,
              "#9c179e"
             ],
             [
              0.4444444444444444,
              "#bd3786"
             ],
             [
              0.5555555555555556,
              "#d8576b"
             ],
             [
              0.6666666666666666,
              "#ed7953"
             ],
             [
              0.7777777777777778,
              "#fb9f3a"
             ],
             [
              0.8888888888888888,
              "#fdca26"
             ],
             [
              1,
              "#f0f921"
             ]
            ],
            "type": "histogram2dcontour"
           }
          ],
          "mesh3d": [
           {
            "colorbar": {
             "outlinewidth": 0,
             "ticks": ""
            },
            "type": "mesh3d"
           }
          ],
          "parcoords": [
           {
            "line": {
             "colorbar": {
              "outlinewidth": 0,
              "ticks": ""
             }
            },
            "type": "parcoords"
           }
          ],
          "pie": [
           {
            "automargin": true,
            "type": "pie"
           }
          ],
          "scatter": [
           {
            "fillpattern": {
             "fillmode": "overlay",
             "size": 10,
             "solidity": 0.2
            },
            "type": "scatter"
           }
          ],
          "scatter3d": [
           {
            "line": {
             "colorbar": {
              "outlinewidth": 0,
              "ticks": ""
             }
            },
            "marker": {
             "colorbar": {
              "outlinewidth": 0,
              "ticks": ""
             }
            },
            "type": "scatter3d"
           }
          ],
          "scattercarpet": [
           {
            "marker": {
             "colorbar": {
              "outlinewidth": 0,
              "ticks": ""
             }
            },
            "type": "scattercarpet"
           }
          ],
          "scattergeo": [
           {
            "marker": {
             "colorbar": {
              "outlinewidth": 0,
              "ticks": ""
             }
            },
            "type": "scattergeo"
           }
          ],
          "scattergl": [
           {
            "marker": {
             "colorbar": {
              "outlinewidth": 0,
              "ticks": ""
             }
            },
            "type": "scattergl"
           }
          ],
          "scattermap": [
           {
            "marker": {
             "colorbar": {
              "outlinewidth": 0,
              "ticks": ""
             }
            },
            "type": "scattermap"
           }
          ],
          "scattermapbox": [
           {
            "marker": {
             "colorbar": {
              "outlinewidth": 0,
              "ticks": ""
             }
            },
            "type": "scattermapbox"
           }
          ],
          "scatterpolar": [
           {
            "marker": {
             "colorbar": {
              "outlinewidth": 0,
              "ticks": ""
             }
            },
            "type": "scatterpolar"
           }
          ],
          "scatterpolargl": [
           {
            "marker": {
             "colorbar": {
              "outlinewidth": 0,
              "ticks": ""
             }
            },
            "type": "scatterpolargl"
           }
          ],
          "scatterternary": [
           {
            "marker": {
             "colorbar": {
              "outlinewidth": 0,
              "ticks": ""
             }
            },
            "type": "scatterternary"
           }
          ],
          "surface": [
           {
            "colorbar": {
             "outlinewidth": 0,
             "ticks": ""
            },
            "colorscale": [
             [
              0,
              "#0d0887"
             ],
             [
              0.1111111111111111,
              "#46039f"
             ],
             [
              0.2222222222222222,
              "#7201a8"
             ],
             [
              0.3333333333333333,
              "#9c179e"
             ],
             [
              0.4444444444444444,
              "#bd3786"
             ],
             [
              0.5555555555555556,
              "#d8576b"
             ],
             [
              0.6666666666666666,
              "#ed7953"
             ],
             [
              0.7777777777777778,
              "#fb9f3a"
             ],
             [
              0.8888888888888888,
              "#fdca26"
             ],
             [
              1,
              "#f0f921"
             ]
            ],
            "type": "surface"
           }
          ],
          "table": [
           {
            "cells": {
             "fill": {
              "color": "#EBF0F8"
             },
             "line": {
              "color": "white"
             }
            },
            "header": {
             "fill": {
              "color": "#C8D4E3"
             },
             "line": {
              "color": "white"
             }
            },
            "type": "table"
           }
          ]
         },
         "layout": {
          "annotationdefaults": {
           "arrowcolor": "#2a3f5f",
           "arrowhead": 0,
           "arrowwidth": 1
          },
          "autotypenumbers": "strict",
          "coloraxis": {
           "colorbar": {
            "outlinewidth": 0,
            "ticks": ""
           }
          },
          "colorscale": {
           "diverging": [
            [
             0,
             "#8e0152"
            ],
            [
             0.1,
             "#c51b7d"
            ],
            [
             0.2,
             "#de77ae"
            ],
            [
             0.3,
             "#f1b6da"
            ],
            [
             0.4,
             "#fde0ef"
            ],
            [
             0.5,
             "#f7f7f7"
            ],
            [
             0.6,
             "#e6f5d0"
            ],
            [
             0.7,
             "#b8e186"
            ],
            [
             0.8,
             "#7fbc41"
            ],
            [
             0.9,
             "#4d9221"
            ],
            [
             1,
             "#276419"
            ]
           ],
           "sequential": [
            [
             0,
             "#0d0887"
            ],
            [
             0.1111111111111111,
             "#46039f"
            ],
            [
             0.2222222222222222,
             "#7201a8"
            ],
            [
             0.3333333333333333,
             "#9c179e"
            ],
            [
             0.4444444444444444,
             "#bd3786"
            ],
            [
             0.5555555555555556,
             "#d8576b"
            ],
            [
             0.6666666666666666,
             "#ed7953"
            ],
            [
             0.7777777777777778,
             "#fb9f3a"
            ],
            [
             0.8888888888888888,
             "#fdca26"
            ],
            [
             1,
             "#f0f921"
            ]
           ],
           "sequentialminus": [
            [
             0,
             "#0d0887"
            ],
            [
             0.1111111111111111,
             "#46039f"
            ],
            [
             0.2222222222222222,
             "#7201a8"
            ],
            [
             0.3333333333333333,
             "#9c179e"
            ],
            [
             0.4444444444444444,
             "#bd3786"
            ],
            [
             0.5555555555555556,
             "#d8576b"
            ],
            [
             0.6666666666666666,
             "#ed7953"
            ],
            [
             0.7777777777777778,
             "#fb9f3a"
            ],
            [
             0.8888888888888888,
             "#fdca26"
            ],
            [
             1,
             "#f0f921"
            ]
           ]
          },
          "colorway": [
           "#636efa",
           "#EF553B",
           "#00cc96",
           "#ab63fa",
           "#FFA15A",
           "#19d3f3",
           "#FF6692",
           "#B6E880",
           "#FF97FF",
           "#FECB52"
          ],
          "font": {
           "color": "#2a3f5f"
          },
          "geo": {
           "bgcolor": "white",
           "lakecolor": "white",
           "landcolor": "#E5ECF6",
           "showlakes": true,
           "showland": true,
           "subunitcolor": "white"
          },
          "hoverlabel": {
           "align": "left"
          },
          "hovermode": "closest",
          "mapbox": {
           "style": "light"
          },
          "paper_bgcolor": "white",
          "plot_bgcolor": "#E5ECF6",
          "polar": {
           "angularaxis": {
            "gridcolor": "white",
            "linecolor": "white",
            "ticks": ""
           },
           "bgcolor": "#E5ECF6",
           "radialaxis": {
            "gridcolor": "white",
            "linecolor": "white",
            "ticks": ""
           }
          },
          "scene": {
           "xaxis": {
            "backgroundcolor": "#E5ECF6",
            "gridcolor": "white",
            "gridwidth": 2,
            "linecolor": "white",
            "showbackground": true,
            "ticks": "",
            "zerolinecolor": "white"
           },
           "yaxis": {
            "backgroundcolor": "#E5ECF6",
            "gridcolor": "white",
            "gridwidth": 2,
            "linecolor": "white",
            "showbackground": true,
            "ticks": "",
            "zerolinecolor": "white"
           },
           "zaxis": {
            "backgroundcolor": "#E5ECF6",
            "gridcolor": "white",
            "gridwidth": 2,
            "linecolor": "white",
            "showbackground": true,
            "ticks": "",
            "zerolinecolor": "white"
           }
          },
          "shapedefaults": {
           "line": {
            "color": "#2a3f5f"
           }
          },
          "ternary": {
           "aaxis": {
            "gridcolor": "white",
            "linecolor": "white",
            "ticks": ""
           },
           "baxis": {
            "gridcolor": "white",
            "linecolor": "white",
            "ticks": ""
           },
           "bgcolor": "#E5ECF6",
           "caxis": {
            "gridcolor": "white",
            "linecolor": "white",
            "ticks": ""
           }
          },
          "title": {
           "x": 0.05
          },
          "xaxis": {
           "automargin": true,
           "gridcolor": "white",
           "linecolor": "white",
           "ticks": "",
           "title": {
            "standoff": 15
           },
           "zerolinecolor": "white",
           "zerolinewidth": 2
          },
          "yaxis": {
           "automargin": true,
           "gridcolor": "white",
           "linecolor": "white",
           "ticks": "",
           "title": {
            "standoff": 15
           },
           "zerolinecolor": "white",
           "zerolinewidth": 2
          }
         }
        },
        "xaxis": {
         "anchor": "y",
         "domain": [
          0,
          1
         ],
         "title": {
          "text": "Profit"
         }
        },
        "yaxis": {
         "anchor": "x",
         "domain": [
          0,
          1
         ],
         "title": {
          "text": "Category_Of_Goods"
         }
        }
       }
      }
     },
     "metadata": {},
     "output_type": "display_data"
    }
   ],
   "source": [
    "cate = df.groupby('Category_Of_Goods')['Profit'].sum().sort_values(ascending=False).reset_index()\n",
    "px.bar(cate, x = 'Profit', y= 'Category_Of_Goods')"
   ]
  },
  {
   "cell_type": "code",
   "execution_count": 19,
   "metadata": {
    "id": "zECR7aZEs_P0"
   },
   "outputs": [
    {
     "data": {
      "application/vnd.plotly.v1+json": {
       "config": {
        "plotlyServerURL": "https://plot.ly"
       },
       "data": [
        {
         "hovertemplate": "Year=%{x}<br>Sales=%{y}<extra></extra>",
         "legendgroup": "",
         "line": {
          "color": "#636efa",
          "dash": "solid"
         },
         "marker": {
          "symbol": "circle"
         },
         "mode": "lines",
         "name": "",
         "orientation": "v",
         "showlegend": false,
         "type": "scatter",
         "x": {
          "bdata": "4wfkB+UH5gfnBw==",
          "dtype": "i2"
         },
         "xaxis": "x",
         "y": {
          "bdata": "uB4FJTv8vUHXo3BTIA6+QbgexZLxFb5B4XrUS/u7vUFSuB5ffae9QQ==",
          "dtype": "f8"
         },
         "yaxis": "y"
        }
       ],
       "layout": {
        "legend": {
         "tracegroupgap": 0
        },
        "margin": {
         "t": 60
        },
        "template": {
         "data": {
          "bar": [
           {
            "error_x": {
             "color": "#2a3f5f"
            },
            "error_y": {
             "color": "#2a3f5f"
            },
            "marker": {
             "line": {
              "color": "#E5ECF6",
              "width": 0.5
             },
             "pattern": {
              "fillmode": "overlay",
              "size": 10,
              "solidity": 0.2
             }
            },
            "type": "bar"
           }
          ],
          "barpolar": [
           {
            "marker": {
             "line": {
              "color": "#E5ECF6",
              "width": 0.5
             },
             "pattern": {
              "fillmode": "overlay",
              "size": 10,
              "solidity": 0.2
             }
            },
            "type": "barpolar"
           }
          ],
          "carpet": [
           {
            "aaxis": {
             "endlinecolor": "#2a3f5f",
             "gridcolor": "white",
             "linecolor": "white",
             "minorgridcolor": "white",
             "startlinecolor": "#2a3f5f"
            },
            "baxis": {
             "endlinecolor": "#2a3f5f",
             "gridcolor": "white",
             "linecolor": "white",
             "minorgridcolor": "white",
             "startlinecolor": "#2a3f5f"
            },
            "type": "carpet"
           }
          ],
          "choropleth": [
           {
            "colorbar": {
             "outlinewidth": 0,
             "ticks": ""
            },
            "type": "choropleth"
           }
          ],
          "contour": [
           {
            "colorbar": {
             "outlinewidth": 0,
             "ticks": ""
            },
            "colorscale": [
             [
              0,
              "#0d0887"
             ],
             [
              0.1111111111111111,
              "#46039f"
             ],
             [
              0.2222222222222222,
              "#7201a8"
             ],
             [
              0.3333333333333333,
              "#9c179e"
             ],
             [
              0.4444444444444444,
              "#bd3786"
             ],
             [
              0.5555555555555556,
              "#d8576b"
             ],
             [
              0.6666666666666666,
              "#ed7953"
             ],
             [
              0.7777777777777778,
              "#fb9f3a"
             ],
             [
              0.8888888888888888,
              "#fdca26"
             ],
             [
              1,
              "#f0f921"
             ]
            ],
            "type": "contour"
           }
          ],
          "contourcarpet": [
           {
            "colorbar": {
             "outlinewidth": 0,
             "ticks": ""
            },
            "type": "contourcarpet"
           }
          ],
          "heatmap": [
           {
            "colorbar": {
             "outlinewidth": 0,
             "ticks": ""
            },
            "colorscale": [
             [
              0,
              "#0d0887"
             ],
             [
              0.1111111111111111,
              "#46039f"
             ],
             [
              0.2222222222222222,
              "#7201a8"
             ],
             [
              0.3333333333333333,
              "#9c179e"
             ],
             [
              0.4444444444444444,
              "#bd3786"
             ],
             [
              0.5555555555555556,
              "#d8576b"
             ],
             [
              0.6666666666666666,
              "#ed7953"
             ],
             [
              0.7777777777777778,
              "#fb9f3a"
             ],
             [
              0.8888888888888888,
              "#fdca26"
             ],
             [
              1,
              "#f0f921"
             ]
            ],
            "type": "heatmap"
           }
          ],
          "histogram": [
           {
            "marker": {
             "pattern": {
              "fillmode": "overlay",
              "size": 10,
              "solidity": 0.2
             }
            },
            "type": "histogram"
           }
          ],
          "histogram2d": [
           {
            "colorbar": {
             "outlinewidth": 0,
             "ticks": ""
            },
            "colorscale": [
             [
              0,
              "#0d0887"
             ],
             [
              0.1111111111111111,
              "#46039f"
             ],
             [
              0.2222222222222222,
              "#7201a8"
             ],
             [
              0.3333333333333333,
              "#9c179e"
             ],
             [
              0.4444444444444444,
              "#bd3786"
             ],
             [
              0.5555555555555556,
              "#d8576b"
             ],
             [
              0.6666666666666666,
              "#ed7953"
             ],
             [
              0.7777777777777778,
              "#fb9f3a"
             ],
             [
              0.8888888888888888,
              "#fdca26"
             ],
             [
              1,
              "#f0f921"
             ]
            ],
            "type": "histogram2d"
           }
          ],
          "histogram2dcontour": [
           {
            "colorbar": {
             "outlinewidth": 0,
             "ticks": ""
            },
            "colorscale": [
             [
              0,
              "#0d0887"
             ],
             [
              0.1111111111111111,
              "#46039f"
             ],
             [
              0.2222222222222222,
              "#7201a8"
             ],
             [
              0.3333333333333333,
              "#9c179e"
             ],
             [
              0.4444444444444444,
              "#bd3786"
             ],
             [
              0.5555555555555556,
              "#d8576b"
             ],
             [
              0.6666666666666666,
              "#ed7953"
             ],
             [
              0.7777777777777778,
              "#fb9f3a"
             ],
             [
              0.8888888888888888,
              "#fdca26"
             ],
             [
              1,
              "#f0f921"
             ]
            ],
            "type": "histogram2dcontour"
           }
          ],
          "mesh3d": [
           {
            "colorbar": {
             "outlinewidth": 0,
             "ticks": ""
            },
            "type": "mesh3d"
           }
          ],
          "parcoords": [
           {
            "line": {
             "colorbar": {
              "outlinewidth": 0,
              "ticks": ""
             }
            },
            "type": "parcoords"
           }
          ],
          "pie": [
           {
            "automargin": true,
            "type": "pie"
           }
          ],
          "scatter": [
           {
            "fillpattern": {
             "fillmode": "overlay",
             "size": 10,
             "solidity": 0.2
            },
            "type": "scatter"
           }
          ],
          "scatter3d": [
           {
            "line": {
             "colorbar": {
              "outlinewidth": 0,
              "ticks": ""
             }
            },
            "marker": {
             "colorbar": {
              "outlinewidth": 0,
              "ticks": ""
             }
            },
            "type": "scatter3d"
           }
          ],
          "scattercarpet": [
           {
            "marker": {
             "colorbar": {
              "outlinewidth": 0,
              "ticks": ""
             }
            },
            "type": "scattercarpet"
           }
          ],
          "scattergeo": [
           {
            "marker": {
             "colorbar": {
              "outlinewidth": 0,
              "ticks": ""
             }
            },
            "type": "scattergeo"
           }
          ],
          "scattergl": [
           {
            "marker": {
             "colorbar": {
              "outlinewidth": 0,
              "ticks": ""
             }
            },
            "type": "scattergl"
           }
          ],
          "scattermap": [
           {
            "marker": {
             "colorbar": {
              "outlinewidth": 0,
              "ticks": ""
             }
            },
            "type": "scattermap"
           }
          ],
          "scattermapbox": [
           {
            "marker": {
             "colorbar": {
              "outlinewidth": 0,
              "ticks": ""
             }
            },
            "type": "scattermapbox"
           }
          ],
          "scatterpolar": [
           {
            "marker": {
             "colorbar": {
              "outlinewidth": 0,
              "ticks": ""
             }
            },
            "type": "scatterpolar"
           }
          ],
          "scatterpolargl": [
           {
            "marker": {
             "colorbar": {
              "outlinewidth": 0,
              "ticks": ""
             }
            },
            "type": "scatterpolargl"
           }
          ],
          "scatterternary": [
           {
            "marker": {
             "colorbar": {
              "outlinewidth": 0,
              "ticks": ""
             }
            },
            "type": "scatterternary"
           }
          ],
          "surface": [
           {
            "colorbar": {
             "outlinewidth": 0,
             "ticks": ""
            },
            "colorscale": [
             [
              0,
              "#0d0887"
             ],
             [
              0.1111111111111111,
              "#46039f"
             ],
             [
              0.2222222222222222,
              "#7201a8"
             ],
             [
              0.3333333333333333,
              "#9c179e"
             ],
             [
              0.4444444444444444,
              "#bd3786"
             ],
             [
              0.5555555555555556,
              "#d8576b"
             ],
             [
              0.6666666666666666,
              "#ed7953"
             ],
             [
              0.7777777777777778,
              "#fb9f3a"
             ],
             [
              0.8888888888888888,
              "#fdca26"
             ],
             [
              1,
              "#f0f921"
             ]
            ],
            "type": "surface"
           }
          ],
          "table": [
           {
            "cells": {
             "fill": {
              "color": "#EBF0F8"
             },
             "line": {
              "color": "white"
             }
            },
            "header": {
             "fill": {
              "color": "#C8D4E3"
             },
             "line": {
              "color": "white"
             }
            },
            "type": "table"
           }
          ]
         },
         "layout": {
          "annotationdefaults": {
           "arrowcolor": "#2a3f5f",
           "arrowhead": 0,
           "arrowwidth": 1
          },
          "autotypenumbers": "strict",
          "coloraxis": {
           "colorbar": {
            "outlinewidth": 0,
            "ticks": ""
           }
          },
          "colorscale": {
           "diverging": [
            [
             0,
             "#8e0152"
            ],
            [
             0.1,
             "#c51b7d"
            ],
            [
             0.2,
             "#de77ae"
            ],
            [
             0.3,
             "#f1b6da"
            ],
            [
             0.4,
             "#fde0ef"
            ],
            [
             0.5,
             "#f7f7f7"
            ],
            [
             0.6,
             "#e6f5d0"
            ],
            [
             0.7,
             "#b8e186"
            ],
            [
             0.8,
             "#7fbc41"
            ],
            [
             0.9,
             "#4d9221"
            ],
            [
             1,
             "#276419"
            ]
           ],
           "sequential": [
            [
             0,
             "#0d0887"
            ],
            [
             0.1111111111111111,
             "#46039f"
            ],
            [
             0.2222222222222222,
             "#7201a8"
            ],
            [
             0.3333333333333333,
             "#9c179e"
            ],
            [
             0.4444444444444444,
             "#bd3786"
            ],
            [
             0.5555555555555556,
             "#d8576b"
            ],
            [
             0.6666666666666666,
             "#ed7953"
            ],
            [
             0.7777777777777778,
             "#fb9f3a"
            ],
            [
             0.8888888888888888,
             "#fdca26"
            ],
            [
             1,
             "#f0f921"
            ]
           ],
           "sequentialminus": [
            [
             0,
             "#0d0887"
            ],
            [
             0.1111111111111111,
             "#46039f"
            ],
            [
             0.2222222222222222,
             "#7201a8"
            ],
            [
             0.3333333333333333,
             "#9c179e"
            ],
            [
             0.4444444444444444,
             "#bd3786"
            ],
            [
             0.5555555555555556,
             "#d8576b"
            ],
            [
             0.6666666666666666,
             "#ed7953"
            ],
            [
             0.7777777777777778,
             "#fb9f3a"
            ],
            [
             0.8888888888888888,
             "#fdca26"
            ],
            [
             1,
             "#f0f921"
            ]
           ]
          },
          "colorway": [
           "#636efa",
           "#EF553B",
           "#00cc96",
           "#ab63fa",
           "#FFA15A",
           "#19d3f3",
           "#FF6692",
           "#B6E880",
           "#FF97FF",
           "#FECB52"
          ],
          "font": {
           "color": "#2a3f5f"
          },
          "geo": {
           "bgcolor": "white",
           "lakecolor": "white",
           "landcolor": "#E5ECF6",
           "showlakes": true,
           "showland": true,
           "subunitcolor": "white"
          },
          "hoverlabel": {
           "align": "left"
          },
          "hovermode": "closest",
          "mapbox": {
           "style": "light"
          },
          "paper_bgcolor": "white",
          "plot_bgcolor": "#E5ECF6",
          "polar": {
           "angularaxis": {
            "gridcolor": "white",
            "linecolor": "white",
            "ticks": ""
           },
           "bgcolor": "#E5ECF6",
           "radialaxis": {
            "gridcolor": "white",
            "linecolor": "white",
            "ticks": ""
           }
          },
          "scene": {
           "xaxis": {
            "backgroundcolor": "#E5ECF6",
            "gridcolor": "white",
            "gridwidth": 2,
            "linecolor": "white",
            "showbackground": true,
            "ticks": "",
            "zerolinecolor": "white"
           },
           "yaxis": {
            "backgroundcolor": "#E5ECF6",
            "gridcolor": "white",
            "gridwidth": 2,
            "linecolor": "white",
            "showbackground": true,
            "ticks": "",
            "zerolinecolor": "white"
           },
           "zaxis": {
            "backgroundcolor": "#E5ECF6",
            "gridcolor": "white",
            "gridwidth": 2,
            "linecolor": "white",
            "showbackground": true,
            "ticks": "",
            "zerolinecolor": "white"
           }
          },
          "shapedefaults": {
           "line": {
            "color": "#2a3f5f"
           }
          },
          "ternary": {
           "aaxis": {
            "gridcolor": "white",
            "linecolor": "white",
            "ticks": ""
           },
           "baxis": {
            "gridcolor": "white",
            "linecolor": "white",
            "ticks": ""
           },
           "bgcolor": "#E5ECF6",
           "caxis": {
            "gridcolor": "white",
            "linecolor": "white",
            "ticks": ""
           }
          },
          "title": {
           "x": 0.05
          },
          "xaxis": {
           "automargin": true,
           "gridcolor": "white",
           "linecolor": "white",
           "ticks": "",
           "title": {
            "standoff": 15
           },
           "zerolinecolor": "white",
           "zerolinewidth": 2
          },
          "yaxis": {
           "automargin": true,
           "gridcolor": "white",
           "linecolor": "white",
           "ticks": "",
           "title": {
            "standoff": 15
           },
           "zerolinecolor": "white",
           "zerolinewidth": 2
          }
         }
        },
        "xaxis": {
         "anchor": "y",
         "domain": [
          0,
          1
         ],
         "title": {
          "text": "Year"
         }
        },
        "yaxis": {
         "anchor": "x",
         "domain": [
          0,
          1
         ],
         "title": {
          "text": "Sales"
         }
        }
       }
      }
     },
     "metadata": {},
     "output_type": "display_data"
    }
   ],
   "source": [
    "trend = df.groupby('Year')['Sales'].sum().reset_index()\n",
    "px.line(trend, x='Year', y='Sales')"
   ]
  },
  {
   "cell_type": "code",
   "execution_count": 20,
   "metadata": {},
   "outputs": [],
   "source": [
    "df.to_csv('Store_Data.csv', index=False)"
   ]
  }
 ],
 "metadata": {
  "colab": {
   "authorship_tag": "ABX9TyNkqDGc0TmHBGYGfxN51JOQ",
   "provenance": []
  },
  "kernelspec": {
   "display_name": "Python 3",
   "name": "python3"
  },
  "language_info": {
   "codemirror_mode": {
    "name": "ipython",
    "version": 3
   },
   "file_extension": ".py",
   "mimetype": "text/x-python",
   "name": "python",
   "nbconvert_exporter": "python",
   "pygments_lexer": "ipython3",
   "version": "3.13.2"
  }
 },
 "nbformat": 4,
 "nbformat_minor": 0
}
